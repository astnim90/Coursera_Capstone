{
 "cells": [
  {
   "cell_type": "markdown",
   "metadata": {},
   "source": [
    "# Capstone Project: The Battle of Neighborhoods (week 4)"
   ]
  },
  {
   "cell_type": "markdown",
   "metadata": {},
   "source": [
    "## Battle of Neighbourhoods of Brussels Capital Region\n",
    "#### Finding the best neighbourhood for relocation for a startup company owner"
   ]
  },
  {
   "cell_type": "markdown",
   "metadata": {},
   "source": [
    "## Table of Contents\n",
    "* [Introduction: Business Problem](#introduction)\n",
    "* [Data](#data)\n",
    "* [Methodology](#methodology)\n"
   ]
  },
  {
   "cell_type": "markdown",
   "metadata": {},
   "source": [
    "## Introduction: Business Problem <a name=\"introduction\"></a>"
   ]
  },
  {
   "cell_type": "markdown",
   "metadata": {},
   "source": [
    "### 1.1. The Problem of Relocation\n",
    "Relocating to a new place often poses a lot of challenges.  Be it as part of a new job or studies or due to one’s personal circumstances most of us have moved out to a new place atleast once. Most of the people search for a place where living conditions are to their liking. A suitable location requires several desirable  venues which will be different for different people. Some people prefers a supermarket nearby for a quick grab of groceries and other household stuff. For others it might be the presence of a fitness center or a restaurant. Whicheverbe the venues, what everyone search is for a perfect place to make their life easier in a new city.\n",
    "### 1.2. Desirable place for Pierre in Brussels\n",
    "Pierre is a partner of an IT startup company. He is relocating from his native village in France to Brussels. Initially, the company will share its office space in any of the co-working spaces available in Brussels. He and his business partner are unsure about the exact location. Pierre prefers to fix the location of relocation to a place where his rented apartment and certain venues are nearby provided that area also hosts a co-working space. Since his native village in France was famous for farm freshgoods, he would like to have a farmers market nearby his house. Presence of French Restaurant is also important as he also enjoys French food very much. A supermarket is also needed as buying all household items and quick grab of food lest in case he runs late from work. Pierre prefers a place which can offer all three of these venues along with an office space. He would then look out for a rented apartment in the place that offers all four of the requiremnts. He would like to have a list of suitable sites in Brussels.\n",
    "### 1.3. The target audience\n",
    "In this report we mainly deal with analysis of municipalities in Brussels to find the best place where Pierre can relocate to, based on his personal preferences. The analysis based on location data, opendata and data science analytic methods can also be extended to others with specific needs such as,an exchange/international student arriving in the city or for people who are searching for a new home within Brussels itself."
   ]
  },
  {
   "cell_type": "markdown",
   "metadata": {},
   "source": [
    "## Data <a name=\"data\"></a>"
   ]
  },
  {
   "cell_type": "markdown",
   "metadata": {},
   "source": [
    "### 2.1. Data required \n",
    "As per the wishes of Pierre the following data should be retrieved for the analysis:\n",
    "* The postcodes and the names of municipalities in the Brussels Capital Region.\n",
    "Obtained and verified from https://www.ccc-ggc.brussels/sites/default/files/documents/graphics/bruxelles-en-cartes/tableaux-codes.jpg and http://pouvoirs-locaux.brussels/fr/acteurs/les-communes and https://www.brussels.be/newcomer \n",
    "* The list of venues in all of the municipalities in Brussels.\n",
    "The postcodes and names of municipalities are used to derived the latitude and longitude of all the municipalities using the OpenCage Geocoder API (https://opencagedata.com). The information thus obtained is used as an input to a location provider API called Foursquare API (https://foursquare.com) which outputs a list of venues present in the location. \n",
    "* The number of co-working spaces available in every municipality of Brussels Capital Region obtained from https://data.gov.be/fr/dataset/310f1955-2326-47f4-96f3-5da9899e54bc\n",
    "\n",
    "### 2.2. Factors influencing the analysis\n",
    "\n",
    "* Presence of the venues - Supermarket, Farmers Market, French Restaurant\n",
    "* Available working spaces in each municipality/commune"
   ]
  },
  {
   "cell_type": "markdown",
   "metadata": {},
   "source": [
    "### 2.3 Data Preparation"
   ]
  },
  {
   "cell_type": "markdown",
   "metadata": {},
   "source": [
    "To make a data worthy to be analysed it has to be cleansed and made into a format required for an analysis. Often we also need to verify the data we are working with, to ensure accuracy. In this section we would outline the steps taken to clean the data before analysing.\n",
    "\n",
    "The Postal codes and names of municipalities are obtained by webscraping the sourced mentioned in the previous section. To ensure accuarcy of the data, every municipality name and post code are cross verified from the official webpages of Brussels administration. \n",
    "\n",
    "The data for the number of co-working spaces is obtained in a .csv file from the aforementioned open data site. This is then read into a python dataframe which helps to work with data better. A list is then prepared by grouping the number of co-working spaces grouped by the given Postal code and municipality.\n",
    "\n",
    "After an exploratory data analysis, we will use one hot encoding to ease our analysis as categorical data are present and cluster the municipalities according to the municipalities of interest for Pierre. This shall be done using k­means clustering algorithm. This narrowed down cluster along with the availability of co­working spaces data will enable us to finalize the municipalities most suitable for the relocation of Pierre. "
   ]
  }
 ],
 "metadata": {
  "kernelspec": {
   "display_name": "Python 3",
   "language": "python",
   "name": "python3"
  },
  "language_info": {
   "codemirror_mode": {
    "name": "ipython",
    "version": 3
   },
   "file_extension": ".py",
   "mimetype": "text/x-python",
   "name": "python",
   "nbconvert_exporter": "python",
   "pygments_lexer": "ipython3",
   "version": "3.8.5"
  }
 },
 "nbformat": 4,
 "nbformat_minor": 4
}
